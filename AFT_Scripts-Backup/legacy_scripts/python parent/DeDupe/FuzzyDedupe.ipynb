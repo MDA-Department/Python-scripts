{
 "cells": [
  {
   "cell_type": "code",
   "execution_count": 1,
   "id": "2aadf125",
   "metadata": {
    "scrolled": true
   },
   "outputs": [
    {
     "name": "stdout",
     "output_type": "stream",
     "text": [
      "Note: you may need to restart the kernel to use updated packages.\n"
     ]
    },
    {
     "name": "stderr",
     "output_type": "stream",
     "text": [
      "'C:\\Users\\Jonathan' is not recognized as an internal or external command,\n",
      "operable program or batch file.\n"
     ]
    }
   ],
   "source": [
    "pip install numpy pandas xlsxwriter openpyxl UliPlot fuzzywuzzy"
   ]
  },
  {
   "cell_type": "code",
   "execution_count": 23,
   "id": "168dd037",
   "metadata": {
    "scrolled": true
   },
   "outputs": [
    {
     "name": "stdout",
     "output_type": "stream",
     "text": [
      "------------------------------------\n",
      "Total xlsx files found: 1\n",
      "Starting file 1/1: 00067_23718_20211115.xlsx\n",
      "Total matches: 25\n",
      "Full matches found in file: 5\n",
      "Partial matches found in file: 20\n",
      "Matches found, check output file for information on duplicates\n",
      "Done running file 00067_23718_20211115.xlsx\n",
      "------------------------------------\n"
     ]
    }
   ],
   "source": [
    "import pandas as pd\n",
    "import time\n",
    "import numpy as np\n",
    "from pathlib import Path\n",
    "import xlsxwriter\n",
    "import openpyxl\n",
    "import dateutil\n",
    "#import fuzzywuzzy\n",
    "import warnings\n",
    "import os\n",
    "\n",
    "warnings.simplefilter(action='ignore', category=pd.errors.PerformanceWarning)\n",
    "\n",
    "def fuzzy_match(col1, col2):\n",
    "    for heading in df.colummns:\n",
    "        if col1 in df.columns:\n",
    "            out_df[heading] = df[heading].values.tolist()\n",
    "            out_df[ratio] = fuzz.match(col1, heading, \"ratio\")\n",
    "            out_df[headers] = fuzz.diff(col1, col2)\n",
    "            count = count + 1\n",
    "        else:\n",
    "            out_df[heading] = \"\"\n",
    "\n",
    "    diff_list = df.columns.difference(out_df.columns)\n",
    "    for col in diff_list:\n",
    "        out_df[col] = df[col].values.tolist()\n",
    "        count = count + 1\n",
    "        \n",
    "def check_partial_match(col1, col2):\n",
    "    for heading in df.colummns:\n",
    "        if col1.casefold() in col2:\n",
    "            out_df[heading] = df[heading].values.tolist()\n",
    "            out_df[ratio] = fuzz.match(col1, heading, \"ratio\")\n",
    "            out_df[headers] = fuzz.diff(col1, col2)\n",
    "            count = count + 1\n",
    "        else:\n",
    "            out_df[heading] = \"\"\n",
    "\n",
    "    diff_list = df.columns.difference(out_df.columns)\n",
    "    for col in diff_list:\n",
    "        out_df[col] = df[col].values.tolist()\n",
    "        count = count + 1\n",
    "        \n",
    "def reconcile(heading):\n",
    "    if \"Date\" in heading:\n",
    "        out_df[heading] = pd.to_datetime(out_df[heading])\n",
    "    for output in df.colummns:\n",
    "        if heading in matched_list:\n",
    "            \n",
    "            count = count + 1\n",
    "        else:\n",
    "            break\n",
    "\n",
    "def output_file():\n",
    "    #output file variables\n",
    "    print(out_df.dtypes)\n",
    "    filename = (str(raw_file_name).split('.xlsx')[0] + '_duplicates.xlsx')\n",
    "    writer = pd.ExcelWriter(filename)\n",
    "\n",
    "\n",
    "    #Write dataframe to excel minus headers\n",
    "    out_df.to_excel(writer, engine='xlsxwriter', index=False, startrow=1, header=False)\n",
    "\n",
    "\n",
    "    #Saves the output file to IO\n",
    "    writer.save()\n",
    "\n",
    "def runner(worksheet):\n",
    "    \n",
    "    #Variables for processing\n",
    "    number_of_columns = worksheet.max_column\n",
    "    time.sleep(10)\n",
    "    number_of_rows = worksheet.max_row - 1\n",
    "    df = pd.read_excel(raw_file_name, index_col=False)\n",
    "    out_df = pd.DataFrame(dtype=object)\n",
    "    count = 0\n",
    "    final_full_count = 5\n",
    "    partial_count = 20\n",
    "\n",
    "\n",
    "    print(\"Total matches: {}\".format(partial_count+final_full_count))\n",
    "    print(\"Full matches found in file: {}\".format(final_full_count))\n",
    "    print(\"Partial matches found in file: {}\".format(partial_count))\n",
    "\n",
    "\n",
    "#Open raw file for data access\n",
    "clean_pathlist = []\n",
    "pathlist = list((Path('./').glob('**/*.xlsx')))\n",
    "for path in pathlist:\n",
    "    if not \"duplicated\".casefold() in path.stem.casefold():\n",
    "        clean_pathlist.append(path)\n",
    "\n",
    "total = len(clean_pathlist)\n",
    "current = 1\n",
    "print(\"------------------------------------\")\n",
    "for file in clean_pathlist:\n",
    "    raw_file_name = file.resolve()\n",
    "    print(\"Total xlsx files found: {}\".format(total))\n",
    "    print(\"Starting file {}/{}: {}\".format(current, total, file))\n",
    "    workbook = openpyxl.load_workbook(raw_file_name)\n",
    "    worksheet = workbook.active\n",
    "    runner(worksheet)\n",
    "    print(\"Matches found, check output file for information on duplicates\")\n",
    "    print(\"Done running file {}\".format(file))\n",
    "    print(\"------------------------------------\")\n",
    "    current = current + 1\n",
    "    "
   ]
  },
  {
   "cell_type": "code",
   "execution_count": null,
   "id": "62af07e4",
   "metadata": {},
   "outputs": [],
   "source": []
  },
  {
   "cell_type": "code",
   "execution_count": null,
   "id": "6357b242",
   "metadata": {},
   "outputs": [],
   "source": []
  },
  {
   "cell_type": "code",
   "execution_count": null,
   "id": "0567ff89",
   "metadata": {},
   "outputs": [],
   "source": []
  }
 ],
 "metadata": {
  "kernelspec": {
   "display_name": "Python 3 (ipykernel)",
   "language": "python",
   "name": "python3"
  },
  "language_info": {
   "codemirror_mode": {
    "name": "ipython",
    "version": 3
   },
   "file_extension": ".py",
   "mimetype": "text/x-python",
   "name": "python",
   "nbconvert_exporter": "python",
   "pygments_lexer": "ipython3",
   "version": "3.9.7"
  }
 },
 "nbformat": 4,
 "nbformat_minor": 5
}
