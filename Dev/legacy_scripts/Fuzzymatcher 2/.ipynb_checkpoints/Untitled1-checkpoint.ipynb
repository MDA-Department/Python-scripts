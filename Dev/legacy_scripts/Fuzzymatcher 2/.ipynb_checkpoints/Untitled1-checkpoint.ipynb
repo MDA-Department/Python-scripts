{
 "cells": [
  {
   "cell_type": "code",
   "execution_count": 41,
   "id": "8cba2827",
   "metadata": {},
   "outputs": [
    {
     "ename": "NameError",
     "evalue": "name 'affiliate_db_category_tuple' is not defined",
     "output_type": "error",
     "traceback": [
      "\u001b[1;31m---------------------------------------------------------------------------\u001b[0m",
      "\u001b[1;31mNameError\u001b[0m                                 Traceback (most recent call last)",
      "\u001b[1;32m<ipython-input-41-2c294c37cb97>\u001b[0m in \u001b[0;36m<module>\u001b[1;34m\u001b[0m\n\u001b[0;32m     44\u001b[0m     \u001b[1;32mfor\u001b[0m \u001b[0mcategory\u001b[0m \u001b[1;32min\u001b[0m \u001b[0mcategories\u001b[0m\u001b[1;33m:\u001b[0m\u001b[1;33m\u001b[0m\u001b[1;33m\u001b[0m\u001b[0m\n\u001b[0;32m     45\u001b[0m         \u001b[1;31m#try:\u001b[0m\u001b[1;33m\u001b[0m\u001b[1;33m\u001b[0m\u001b[1;33m\u001b[0m\u001b[0m\n\u001b[1;32m---> 46\u001b[1;33m         \u001b[0mmatcher\u001b[0m\u001b[1;33m(\u001b[0m\u001b[0maffiliate_officer_file_path\u001b[0m\u001b[1;33m,\u001b[0m \u001b[0maftdb_officers_file_path\u001b[0m\u001b[1;33m,\u001b[0m \u001b[0mcategory\u001b[0m\u001b[1;33m)\u001b[0m\u001b[1;33m\u001b[0m\u001b[1;33m\u001b[0m\u001b[0m\n\u001b[0m\u001b[0;32m     47\u001b[0m \u001b[1;33m\u001b[0m\u001b[0m\n\u001b[0;32m     48\u001b[0m \u001b[1;33m\u001b[0m\u001b[0m\n",
      "\u001b[1;32m<ipython-input-41-2c294c37cb97>\u001b[0m in \u001b[0;36mmatcher\u001b[1;34m(affiliate_officer_file_path, aftdb_officers_file_path, affiliate_officer_file_path_category_tuple)\u001b[0m\n\u001b[0;32m     25\u001b[0m \u001b[1;32mdef\u001b[0m \u001b[0mmatcher\u001b[0m\u001b[1;33m(\u001b[0m\u001b[0maffiliate_officer_file_path\u001b[0m\u001b[1;33m,\u001b[0m \u001b[0maftdb_officers_file_path\u001b[0m\u001b[1;33m,\u001b[0m \u001b[0maffiliate_officer_file_path_category_tuple\u001b[0m\u001b[1;33m)\u001b[0m\u001b[1;33m:\u001b[0m\u001b[1;33m\u001b[0m\u001b[1;33m\u001b[0m\u001b[0m\n\u001b[0;32m     26\u001b[0m     \u001b[0mao_name\u001b[0m \u001b[1;33m=\u001b[0m \u001b[0maffiliate_officer_file_path_category_tuple\u001b[0m\u001b[1;33m[\u001b[0m\u001b[1;36m0\u001b[0m\u001b[1;33m]\u001b[0m\u001b[1;33m\u001b[0m\u001b[1;33m\u001b[0m\u001b[0m\n\u001b[1;32m---> 27\u001b[1;33m     \u001b[0moff_name_list\u001b[0m \u001b[1;33m=\u001b[0m \u001b[0mre\u001b[0m\u001b[1;33m.\u001b[0m\u001b[0mfindall\u001b[0m\u001b[1;33m(\u001b[0m\u001b[1;34m'[A-Z][^A-Z]*'\u001b[0m\u001b[1;33m,\u001b[0m \u001b[0maffiliate_db_category_tuple\u001b[0m\u001b[1;33m[\u001b[0m\u001b[1;36m1\u001b[0m\u001b[1;33m]\u001b[0m\u001b[1;33m)\u001b[0m\u001b[1;33m\u001b[0m\u001b[1;33m\u001b[0m\u001b[0m\n\u001b[0m\u001b[0;32m     28\u001b[0m     \u001b[0mdboff_name\u001b[0m \u001b[1;33m=\u001b[0m \u001b[1;34m' '\u001b[0m\u001b[1;33m.\u001b[0m\u001b[0mjoin\u001b[0m\u001b[1;33m(\u001b[0m\u001b[0mdboff_name_list\u001b[0m\u001b[1;33m)\u001b[0m \u001b[1;33m+\u001b[0m \u001b[1;34m' Name'\u001b[0m\u001b[1;33m\u001b[0m\u001b[1;33m\u001b[0m\u001b[0m\n\u001b[0;32m     29\u001b[0m     \u001b[0mdboff_id\u001b[0m \u001b[1;33m=\u001b[0m \u001b[1;34m' '\u001b[0m\u001b[1;33m.\u001b[0m\u001b[0mjoin\u001b[0m\u001b[1;33m(\u001b[0m\u001b[0mdboff_name_list\u001b[0m\u001b[1;33m)\u001b[0m \u001b[1;33m+\u001b[0m \u001b[1;34m' Id'\u001b[0m\u001b[1;33m\u001b[0m\u001b[1;33m\u001b[0m\u001b[0m\n",
      "\u001b[1;31mNameError\u001b[0m: name 'affiliate_db_category_tuple' is not defined"
     ]
    }
   ],
   "source": [
    "import pandas as pd\n",
    "import recordlinkage\n",
    "import re\n",
    "from pathlib import Path\n",
    "\n",
    "def officer_file_creator(officer_file_path, ws_name):\n",
    "    aftdb_officers_sheet = pd.read_excel(aftdb_officers_sheet_path, ws_name)\n",
    "    col_name_list = re.findall('[A-Z][^A-Z]*', ws_name)\n",
    "    col_name = ' '.join(col_name_list) + ' Name'\n",
    "    if (len(aftdb_officers_sheet[col_name].dropna()) > 0) == True:\n",
    "        col_id = ' '.join(col_name_list) + ' Id'\n",
    "        data = {col_name : aftdb_officers_sheet[col_name].str.rstrip(), col_id: aftdb_officers_sheet[col_id]}\n",
    "        \n",
    "        return pd.DataFrame(data).dropna() \n",
    "    \n",
    "def affiliate_officer_id_creator(affiliate_officer_file_path, col_name):\n",
    "    affiliate_officer = pd.read_excel(affiliate_officer_file_path)\n",
    "    if (len(affiliate_officer[col_name].dropna()) > 0) == True:\n",
    "        unique_entries_index = affiliate_officer[col_name].drop_duplicates().index\n",
    "        officer_descriptions = affiliate_officer.loc[unique_entries_index, col_name].values\n",
    "        data = {col_name:officer_descriptions}\n",
    "            \n",
    "        return pd.DataFrame(data) \n",
    "    \n",
    "def matcher(affiliate_officer_file_path, aftdb_officers_file_path, affiliate_officer_file_path_category_tuple):        \n",
    "    ao_name = affiliate_officer_file_path_category_tuple[0]\n",
    "    off_name_list = re.findall('[A-Z][^A-Z]*', affiliate_db_category_tuple[1])\n",
    "    dboff_name = ' '.join(dboff_name_list) + ' Name'\n",
    "    dboff_id = ' '.join(dboff_name_list) + ' Id'\n",
    "    affiliate = affiliate_officer_id_creator(aftdb_officers_file_path, ao_name)\n",
    "    db = db_file_creator(affiliate_officer_file_path, affiliate_db_category_tuple[1])\n",
    "    ####Define Affiliate and db\n",
    "categories = [('dbofficername','officername')]\n",
    "    \n",
    "directory = r\"C:\\Users\\AFT\\OneDrive - aft.org\\Fuzzymatcher\\Affiliate_Officers\"\n",
    "    \n",
    "pathlist = Path(directory).glob('**/*Affiliate_Officers.xlsx')\n",
    "for path in pathlist:\n",
    "    affiliate_officer_file_path = path\n",
    "    #print(path)\n",
    "    #put limit here so only knackbuild files with correct str length get processed? prevent possible errors/bugs?\n",
    "    aftdb_officers_file_path = str(path)[:-23] + 'Affiliate_Officers.xlsx'\n",
    "    aftdb_officers_file_path = Path(aftdb_officers_file_path)\n",
    "    for category in categories:\n",
    "        #try:\n",
    "        matcher(affiliate_officer_file_path, aftdb_officers_file_path, category)\n",
    "    \n",
    "        \n",
    "  \n",
    "        "
   ]
  },
  {
   "cell_type": "code",
   "execution_count": null,
   "id": "4450fc2d",
   "metadata": {},
   "outputs": [],
   "source": []
  }
 ],
 "metadata": {
  "kernelspec": {
   "display_name": "Python 3",
   "language": "python",
   "name": "python3"
  },
  "language_info": {
   "codemirror_mode": {
    "name": "ipython",
    "version": 3
   },
   "file_extension": ".py",
   "mimetype": "text/x-python",
   "name": "python",
   "nbconvert_exporter": "python",
   "pygments_lexer": "ipython3",
   "version": "3.8.8"
  }
 },
 "nbformat": 4,
 "nbformat_minor": 5
}
