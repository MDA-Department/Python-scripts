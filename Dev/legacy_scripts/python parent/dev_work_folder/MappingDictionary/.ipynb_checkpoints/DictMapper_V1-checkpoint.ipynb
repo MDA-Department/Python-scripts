{
 "cells": [
  {
   "cell_type": "code",
   "execution_count": 4,
   "id": "2aadf125",
   "metadata": {
    "scrolled": true
   },
   "outputs": [
    {
     "name": "stdout",
     "output_type": "stream",
     "text": [
      "Note: you may need to restart the kernel to use updated packages.\n"
     ]
    },
    {
     "name": "stderr",
     "output_type": "stream",
     "text": [
      "'C:\\Users\\Jonathan' is not recognized as an internal or external command,\n",
      "operable program or batch file.\n"
     ]
    }
   ],
   "source": [
    "pip install numpy pandas xlsxwriter openpyxl UliPlot"
   ]
  },
  {
   "cell_type": "code",
   "execution_count": 20,
   "id": "168dd037",
   "metadata": {},
   "outputs": [
    {
     "name": "stdout",
     "output_type": "stream",
     "text": [
      "------------------------------------\n",
      "Multiple Dictionary files found\n",
      "------------------------------------\n",
      "------------------------------------\n",
      "Starting file 1/1: 00300_raw_file.xlsx\n",
      "Done running file 00300_raw_file.xlsx\n",
      "------------------------------------\n"
     ]
    }
   ],
   "source": [
    "import pandas as pd\n",
    "import numpy as np\n",
    "from pathlib import Path\n",
    "import xlsxwriter\n",
    "import openpyxl\n",
    "import dateutil\n",
    "import warnings\n",
    "\n",
    "warnings.simplefilter(action='ignore', category=pd.errors.PerformanceWarning)\n",
    "\n",
    "dictionary = []\n",
    "\n",
    "def mapping_loader(raw_file_name):\n",
    "    df = pd.read_excel(raw_file_name, index_col=False)\n",
    "    print(df['AffiliateNumber'])\n",
    "\n",
    "\n",
    "#Open file for dictionary mappings\n",
    "clean_pathlist = []\n",
    "pathlist = list((Path('./').glob('**/*.xlsx')))\n",
    "for path in pathlist:\n",
    "    if \"Dictionary\".casefold() in path.stem.casefold():\n",
    "        if not \"~$\" in path.stem:\n",
    "            clean_pathlist.append(path)\n",
    "\n",
    "total = len(clean_pathlist)\n",
    "if total == 1:\n",
    "    raw_file_name = clean_pathlist[0].resolve()\n",
    "    mapping_loader(raw_file_name)\n",
    "else:\n",
    "    print(\"------------------------------------\")\n",
    "    print(\"Multiple Dictionary files found\")\n",
    "    print(\"------------------------------------\")\n",
    "\n",
    "\n",
    "#Open raw file for data access\n",
    "clean_pathlist = []\n",
    "pathlist = list((Path('./').glob('**/*.xlsx')))\n",
    "for path in pathlist:\n",
    "    if not \"Dictionary\".casefold() in path.stem.casefold():\n",
    "        if not \"~$\" in path.stem:\n",
    "            clean_pathlist.append(path)\n",
    "\n",
    "total = len(clean_pathlist)\n",
    "current = 1\n",
    "print(\"------------------------------------\")\n",
    "for file in clean_pathlist:\n",
    "    raw_file_name = file.resolve()\n",
    "    print(\"Starting file {}/{}: {}\".format(current, total, file))\n",
    "    workbook = openpyxl.load_workbook(raw_file_name)\n",
    "    worksheet = workbook.active\n",
    "    #runner(worksheet)\n",
    "    print(\"Done running file {}\".format(file))\n",
    "    print(\"------------------------------------\")\n",
    "    current = current + 1\n",
    "    "
   ]
  },
  {
   "cell_type": "code",
   "execution_count": null,
   "id": "62af07e4",
   "metadata": {},
   "outputs": [],
   "source": [
    "def runner(raw_file_name):\n",
    "    #Variables for processing\n",
    "    number_of_columns = worksheet.max_column\n",
    "    number_of_rows = worksheet.max_row - 1\n",
    "    df = pd.read_excel(raw_file_name, index_col=False)\n",
    "    out_df = pd.DataFrame(dtype=object)\n",
    "    count = 0\n",
    "\n",
    "    # Logic Here for adding every heading,\n",
    "    # if the heading exists in the raw file the rows are copied\n",
    "    # if the heading doesn't exist it is applied with blank rows\n",
    "    for heading in template_list:\n",
    "        if heading in df:\n",
    "            out_df[heading] = df[heading].values.tolist()\n",
    "            count = count + 1\n",
    "        else:\n",
    "            out_df[heading] = \"\"\n",
    "        if \"Date\" in heading:\n",
    "                out_df[heading] = pd.to_datetime(out_df[heading])\n",
    "                out_df[heading] = out_df[heading].dt.strftime('%m/%d/%Y')\n",
    "\n",
    "    diff_list = df.columns.difference(out_df.columns)\n",
    "    for col in diff_list:\n",
    "        print(\"NO MATCH, APPENDING COLUMN: {}\".format(col))\n",
    "        out_df[col] = df[col].values.tolist()\n",
    "        count = count + 1\n",
    "\n",
    "    #output file variables\n",
    "    #print(out_df.dtypes)\n",
    "    filename = (str(raw_file_name).split('.xlsx')[0] + '_KnackBuild.xlsx')\n",
    "    writer = pd.ExcelWriter(filename)\n",
    "\n",
    "\n",
    "    #Write dataframe to excel minus headers\n",
    "    out_df.to_excel(writer, engine='xlsxwriter', index=False, startrow=1, header=False)\n",
    "\n",
    "    #Autoresize\n",
    "    #NOT WORKING\n",
    "    #auto_adjust_xlsx_column_width(df, writer, sheet_name=\"Sheet1\", margin=0)\n",
    "\n",
    "\n",
    "    #For loop magic to re-add the headers in the right format\n",
    "    out_workbook  = writer.book\n",
    "    out_worksheet = writer.sheets['Sheet1']\n",
    "    column_list = out_df.columns\n",
    "\n",
    "    currency_format = out_workbook.add_format({'num_format': '$#,##0.00'})\n",
    "    date_format = out_workbook.add_format({'num_format': 'm/d/yy'})\n",
    "    text_format = out_workbook.add_format({'num_format': '@'})\n",
    "\n",
    "    for idx, val in enumerate(column_list):\n",
    "        out_worksheet.write(0, idx, val)\n",
    "\n",
    "    for idx, val in enumerate(column_list):\n",
    "        if \"CopeAmount\" in val:\n",
    "            #print(idx, val)\n",
    "            out_worksheet.set_column(idx, idx, 10, currency_format)\n",
    "        if \"Date\" in val:\n",
    "            out_worksheet.set_column(idx, idx, 10, date_format)\n",
    "            #print(idx, val)\n",
    "        else:\n",
    "            #print(idx, val)\n",
    "            out_worksheet.set_column(idx, idx, 10, text_format)\n",
    "\n",
    "\n",
    "    #Saves the output file to IO\n",
    "    writer.save()\n",
    "\n",
    "    #Validation print logs and variables\n",
    "    workbook = openpyxl.load_workbook(filename)\n",
    "    worksheet = workbook[\"Sheet1\"]\n",
    "    final_number_of_rows = worksheet.max_row - 1\n",
    "\n",
    "    print(\"Columns in raw file: {}. Total data columns added to output file: {}\".format(number_of_columns, count))\n",
    "    print(\"Data rows in raw file: {}. Total data rows added to output file: {}\".format(number_of_rows, final_number_of_rows))"
   ]
  },
  {
   "cell_type": "code",
   "execution_count": null,
   "id": "6357b242",
   "metadata": {},
   "outputs": [],
   "source": []
  },
  {
   "cell_type": "code",
   "execution_count": null,
   "id": "0567ff89",
   "metadata": {},
   "outputs": [],
   "source": []
  }
 ],
 "metadata": {
  "kernelspec": {
   "display_name": "Python 3 (ipykernel)",
   "language": "python",
   "name": "python3"
  },
  "language_info": {
   "codemirror_mode": {
    "name": "ipython",
    "version": 3
   },
   "file_extension": ".py",
   "mimetype": "text/x-python",
   "name": "python",
   "nbconvert_exporter": "python",
   "pygments_lexer": "ipython3",
   "version": "3.9.7"
  }
 },
 "nbformat": 4,
 "nbformat_minor": 5
}
