{
 "cells": [
  {
   "cell_type": "code",
   "execution_count": null,
   "id": "e06abb10",
   "metadata": {},
   "outputs": [],
   "source": [
    "#---------------------------------------------------------------------\n",
    "# THIS SCRIPT IS MEANT TO FAIL EVERYDAY EXCEPT THE 15th OF THE MONTH\n",
    "#   This is done to prevent the downstream workflow for beneficiary knack\n",
    "#   from running till the 15th when it is needed.\n",
    "#---------------------------------------------------------------------\n",
    "import sys\n",
    "from datetime import date\n",
    "from datetime import timedelta\n",
    "\n",
    "#Get today's date and extarcts the day\n",
    "today_day = date.today().day\n",
    "\n",
    "#If today is the 15th of the month, print and exit successfully.\n",
    "#If today is not the 15th, print error and exit with error.\n",
    "if today_day == 15:\n",
    "    print(f'Today is the {today_day} of the month, running workflow...')\n",
    "else:\n",
    "    print('Today is not the 15th of the month, failing workflow.')\n",
    "    sys.exit('Date not valid')"
   ]
  }
 ],
 "metadata": {
  "kernelspec": {
   "display_name": "Python 3 (ipykernel)",
   "language": "python",
   "name": "python3"
  },
  "language_info": {
   "codemirror_mode": {
    "name": "ipython",
    "version": 3
   },
   "file_extension": ".py",
   "mimetype": "text/x-python",
   "name": "python",
   "nbconvert_exporter": "python",
   "pygments_lexer": "ipython3",
   "version": "3.9.7"
  }
 },
 "nbformat": 4,
 "nbformat_minor": 5
}
