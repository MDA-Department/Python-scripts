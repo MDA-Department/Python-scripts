{
 "cells": [
  {
   "cell_type": "code",
   "execution_count": null,
   "id": "23faff81",
   "metadata": {},
   "outputs": [],
   "source": [
    "import requests\n",
    "import json\n",
    "import pandas as pd\n",
    "import urllib.parse\n",
    "from pathlib import Path\n",
    "from datetime import date\n",
    "from datetime import timedelta\n",
    "\n",
    "output = {}\n",
    "\n",
    "df = pd.read_csv('Export_Full_Results_0000_part_00_combine-1.csv', dtype=str)\n",
    "for index, row in df.iterrows():\n",
    "    if not row['custom_fields'] == '{}':\n",
    "        customs = row['custom_fields']\n",
    "        for k,v in customs.items():\n",
    "            print(k)\n",
    "        print(customs)\n",
    "        break\n",
    "        #output.update({})\n",
    "        #print(row['organization_id'], )\n",
    "\n"
   ]
  },
  {
   "cell_type": "code",
   "execution_count": null,
   "id": "b328555c",
   "metadata": {},
   "outputs": [],
   "source": []
  },
  {
   "cell_type": "code",
   "execution_count": null,
   "id": "f7eebc31",
   "metadata": {},
   "outputs": [],
   "source": []
  }
 ],
 "metadata": {
  "kernelspec": {
   "display_name": "Python 3 (ipykernel)",
   "language": "python",
   "name": "python3"
  },
  "language_info": {
   "codemirror_mode": {
    "name": "ipython",
    "version": 3
   },
   "file_extension": ".py",
   "mimetype": "text/x-python",
   "name": "python",
   "nbconvert_exporter": "python",
   "pygments_lexer": "ipython3",
   "version": "3.9.7"
  }
 },
 "nbformat": 4,
 "nbformat_minor": 5
}
